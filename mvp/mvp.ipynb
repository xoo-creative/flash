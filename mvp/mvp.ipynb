{
 "cells": [
  {
   "cell_type": "code",
   "execution_count": 1,
   "metadata": {},
   "outputs": [
    {
     "data": {
      "text/plain": [
       "True"
      ]
     },
     "execution_count": 1,
     "metadata": {},
     "output_type": "execute_result"
    }
   ],
   "source": [
    "from dotenv import load_dotenv\n",
    "from utils import load_prompt\n",
    "from langchain.chat_models import ChatOpenAI\n",
    "from langchain.prompts.chat import (\n",
    "    ChatPromptTemplate,\n",
    "    HumanMessagePromptTemplate,\n",
    "    SystemMessagePromptTemplate,\n",
    ")\n",
    "from langchain.schema import HumanMessage, SystemMessage\n",
    "\n",
    "load_dotenv()"
   ]
  },
  {
   "cell_type": "code",
   "execution_count": 2,
   "metadata": {},
   "outputs": [],
   "source": [
    "chat = ChatOpenAI(temperature=0)"
   ]
  },
  {
   "cell_type": "code",
   "execution_count": 3,
   "metadata": {},
   "outputs": [],
   "source": [
    "core_concepts_prompt = load_prompt(\"core-concepts\")\n",
    "human_prompt_template = \"{technology_name}\""
   ]
  },
  {
   "cell_type": "code",
   "execution_count": 4,
   "metadata": {},
   "outputs": [],
   "source": [
    "system_message_prompt = SystemMessagePromptTemplate.from_template(core_concepts_prompt)\n",
    "human_message_prompt = HumanMessagePromptTemplate.from_template(human_prompt_template)\n",
    "\n",
    "chat_prompt = ChatPromptTemplate.from_messages(\n",
    "    [system_message_prompt, human_message_prompt]\n",
    ")\n"
   ]
  },
  {
   "cell_type": "code",
   "execution_count": 5,
   "metadata": {},
   "outputs": [],
   "source": [
    "response = chat(\n",
    "    chat_prompt.format_prompt(\n",
    "        technology_name=\"Elm\"\n",
    "    ).to_messages()\n",
    ")"
   ]
  },
  {
   "cell_type": "code",
   "execution_count": 6,
   "metadata": {},
   "outputs": [
    {
     "name": "stdout",
     "output_type": "stream",
     "text": [
      "## Core Concepts\n",
      "\n",
      "### The Elm Architecture\n",
      "The Elm Architecture is a pattern for building web applications in Elm. It consists of three main components: Model, View, and Update. The Model represents the state of the application, the View is responsible for rendering the user interface based on the current state, and the Update handles user interactions and updates the state accordingly. This architecture promotes a clear separation of concerns and makes it easier to reason about and test the application.\n",
      "\n",
      "### Immutable Data\n",
      "In Elm, data is immutable, meaning that once a value is assigned, it cannot be changed. Instead, when you want to modify a value, you create a new copy with the desired changes. This approach ensures that the state of the application remains consistent and makes it easier to reason about how data changes over time. Elm provides built-in functions and syntax for working with immutable data, such as the `update` function for updating the model.\n",
      "\n",
      "### Type System and Static Typing\n",
      "Elm has a strong and statically typed system, which means that every value in Elm has a specific type that is checked at compile-time. This helps catch errors early and provides better guarantees about the correctness of the code. The type system also enables powerful features like type inference, where the compiler can automatically infer the types of expressions without explicit annotations. Elm's type system encourages writing safer and more reliable code.\n",
      "\n",
      "### Functional Programming\n",
      "Elm is a functional programming language, which means that it emphasizes the use of pure functions and immutable data. Pure functions do not have side effects and always produce the same output for the same input, making them easier to reason about and test. Elm provides a rich set of functional programming features, such as higher-order functions, pattern matching, and function composition. Understanding and embracing functional programming concepts is essential for writing idiomatic Elm code.\n",
      "\n",
      "### Virtual DOM\n",
      "Elm uses a virtual DOM (Document Object Model) to efficiently update the user interface. The virtual DOM is a lightweight representation of the actual DOM, and Elm automatically calculates the minimal set of changes needed to update the real DOM based on the current state of the application. This approach improves performance by reducing unnecessary DOM manipulations and makes it easier to build complex user interfaces. The virtual DOM is managed by Elm's runtime, so you don't have to worry about manually manipulating the DOM.\n"
     ]
    }
   ],
   "source": [
    "print(response.content)"
   ]
  },
  {
   "cell_type": "code",
   "execution_count": null,
   "metadata": {},
   "outputs": [],
   "source": []
  }
 ],
 "metadata": {
  "kernelspec": {
   "display_name": "flash-env",
   "language": "python",
   "name": "python3"
  },
  "language_info": {
   "codemirror_mode": {
    "name": "ipython",
    "version": 3
   },
   "file_extension": ".py",
   "mimetype": "text/x-python",
   "name": "python",
   "nbconvert_exporter": "python",
   "pygments_lexer": "ipython3",
   "version": "3.9.18"
  }
 },
 "nbformat": 4,
 "nbformat_minor": 2
}
