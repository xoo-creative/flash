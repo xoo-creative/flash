{
 "cells": [
  {
   "cell_type": "code",
   "execution_count": 1,
   "metadata": {},
   "outputs": [
    {
     "data": {
      "text/plain": [
       "True"
      ]
     },
     "execution_count": 1,
     "metadata": {},
     "output_type": "execute_result"
    }
   ],
   "source": [
    "from dotenv import load_dotenv\n",
    "from src.utils import load_prompt\n",
    "from langchain.chat_models import ChatOpenAI\n",
    "from langchain.prompts.chat import (\n",
    "    ChatPromptTemplate,\n",
    "    HumanMessagePromptTemplate,\n",
    "    SystemMessagePromptTemplate,\n",
    ")\n",
    "from langchain.schema import HumanMessage, SystemMessage\n",
    "\n",
    "load_dotenv(\"src/.env\")"
   ]
  },
  {
   "cell_type": "code",
   "execution_count": 5,
   "metadata": {},
   "outputs": [],
   "source": [
    "# Utils\n",
    "def load_text(path):\n",
    "    with open(path, \"r\") as fp:\n",
    "        return fp.read()\n",
    "\n",
    "def load_prompt(prompt):\n",
    "    return load_text(f\"prompts/{prompt}.txt\")\n"
   ]
  },
  {
   "cell_type": "code",
   "execution_count": 6,
   "metadata": {},
   "outputs": [],
   "source": [
    "chat = ChatOpenAI(temperature=0)"
   ]
  },
  {
   "cell_type": "code",
   "execution_count": 7,
   "metadata": {},
   "outputs": [],
   "source": [
    "core_concepts_prompt = load_prompt(\"core-concepts\")\n",
    "human_prompt_template = \"{technology_name}\""
   ]
  },
  {
   "cell_type": "code",
   "execution_count": 8,
   "metadata": {},
   "outputs": [],
   "source": [
    "system_message_prompt = SystemMessagePromptTemplate.from_template(core_concepts_prompt)\n",
    "human_message_prompt = HumanMessagePromptTemplate.from_template(human_prompt_template)\n",
    "\n",
    "chat_prompt = ChatPromptTemplate.from_messages(\n",
    "    [system_message_prompt, human_message_prompt]\n",
    ")\n"
   ]
  },
  {
   "cell_type": "code",
   "execution_count": 9,
   "metadata": {},
   "outputs": [],
   "source": [
    "response = chat(\n",
    "    chat_prompt.format_prompt(\n",
    "        technology_name=\"Elm\"\n",
    "    ).to_messages()\n",
    ")"
   ]
  },
  {
   "cell_type": "code",
   "execution_count": 10,
   "metadata": {},
   "outputs": [
    {
     "name": "stdout",
     "output_type": "stream",
     "text": [
      "## Core Concepts\n",
      "\n",
      "### The Elm Architecture\n",
      "The Elm Architecture is a pattern for building web applications in Elm. It consists of three main components: Model, View, and Update. The Model represents the state of the application, the View is responsible for rendering the user interface based on the current state, and the Update handles user interactions and updates the state accordingly. This architecture promotes a clear separation of concerns and makes it easy to reason about the application's behavior.\n",
      "\n",
      "### Immutability\n",
      "In Elm, data is immutable, meaning that once a value is created, it cannot be changed. Instead, any modifications to the data result in the creation of a new value. This approach ensures that the state of the application remains consistent and makes it easier to reason about the behavior of the program. Immutability also enables features like time-travel debugging, where you can replay the application's state changes.\n",
      "\n",
      "### Type System and Static Typing\n",
      "Elm has a strong static type system that helps catch errors at compile-time rather than runtime. The type system ensures that values are used correctly and provides guarantees about the behavior of the program. By catching errors early, Elm helps developers write more reliable code and reduces the likelihood of runtime errors.\n",
      "\n",
      "### Functional Programming\n",
      "Elm is a functional programming language, which means that functions are first-class citizens and can be passed around as values. Functional programming encourages writing pure functions that do not have side effects and are deterministic. This approach makes it easier to reason about the behavior of the program and promotes code that is easier to test and maintain. Elm also provides powerful tools for working with lists, such as map, filter, and reduce, which allow for concise and expressive code.\n"
     ]
    }
   ],
   "source": [
    "print(response.content)"
   ]
  }
 ],
 "metadata": {
  "kernelspec": {
   "display_name": "flash-env",
   "language": "python",
   "name": "python3"
  },
  "language_info": {
   "codemirror_mode": {
    "name": "ipython",
    "version": 3
   },
   "file_extension": ".py",
   "mimetype": "text/x-python",
   "name": "python",
   "nbconvert_exporter": "python",
   "pygments_lexer": "ipython3",
   "version": "3.9.18"
  }
 },
 "nbformat": 4,
 "nbformat_minor": 2
}
