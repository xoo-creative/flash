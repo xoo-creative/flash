{
 "cells": [
  {
   "cell_type": "code",
   "execution_count": 1,
   "metadata": {},
   "outputs": [
    {
     "data": {
      "text/plain": [
       "True"
      ]
     },
     "execution_count": 1,
     "metadata": {},
     "output_type": "execute_result"
    }
   ],
   "source": [
    "import os\n",
    "import json\n",
    "import time\n",
    "\n",
    "from dotenv import load_dotenv\n",
    "from langchain.chat_models import ChatOpenAI\n",
    "from langchain.prompts.chat import (\n",
    "    ChatPromptTemplate,\n",
    "    HumanMessagePromptTemplate,\n",
    "    SystemMessagePromptTemplate,\n",
    ")\n",
    "from langchain.schema import HumanMessage, SystemMessage\n",
    "from IPython.display import display, Markdown\n",
    "from openai import OpenAI\n",
    "from tavily import TavilyClient\n",
    "\n",
    "load_dotenv(\"src/.env\")"
   ]
  },
  {
   "cell_type": "code",
   "execution_count": 2,
   "metadata": {},
   "outputs": [],
   "source": [
    "# Utils\n",
    "def load_text(path):\n",
    "    with open(path, \"r\") as fp:\n",
    "        return fp.read()\n",
    "\n",
    "\n",
    "def load_prompt(prompt):\n",
    "    return load_text(f\"prompts/{prompt}.txt\")\n",
    "\n",
    "\n",
    "def write_section(section_title: str, technology_name: str) -> str:\n",
    "    try:\n",
    "        requested_prompt = load_prompt(section_title)\n",
    "    except:\n",
    "        raise RuntimeError(\"Section name provided is not one of the valid sections. Please check the `prompts` folder for options.\")\n",
    "    \n",
    "    if technology_name == \"\":\n",
    "        raise RuntimeError(\"No technology_name provided, but it is required.\")\n",
    "\n",
    "    human_prompt_template = \"{technology_name}\"\n",
    "\n",
    "    system_message_prompt = SystemMessagePromptTemplate.from_template(requested_prompt)\n",
    "    human_message_prompt = HumanMessagePromptTemplate.from_template(human_prompt_template)\n",
    "\n",
    "    chat_prompt = ChatPromptTemplate.from_messages(\n",
    "        [system_message_prompt, human_message_prompt]\n",
    "    )\n",
    "\n",
    "    chat_response = chat(\n",
    "        chat_prompt.format_prompt(\n",
    "            technology_name=technology_name\n",
    "        ).to_messages()\n",
    "    )\n",
    "\n",
    "    return chat_response.content\n"
   ]
  },
  {
   "cell_type": "code",
   "execution_count": 3,
   "metadata": {},
   "outputs": [],
   "source": [
    "chat = ChatOpenAI(temperature=0)"
   ]
  },
  {
   "cell_type": "markdown",
   "metadata": {},
   "source": [
    "## Pick your technology here"
   ]
  },
  {
   "cell_type": "code",
   "execution_count": 12,
   "metadata": {},
   "outputs": [],
   "source": [
    "technology = \"Helm\""
   ]
  },
  {
   "cell_type": "markdown",
   "metadata": {},
   "source": [
    "## Onboarding"
   ]
  },
  {
   "cell_type": "code",
   "execution_count": 13,
   "metadata": {},
   "outputs": [
    {
     "data": {
      "text/markdown": [
       "## Onboarding\n",
       "\n",
       "### What problem does this aim to solve?\n",
       "\n",
       "Helm is a package manager for Kubernetes that aims to simplify the deployment and management of applications on a Kubernetes cluster. Kubernetes is a powerful container orchestration platform, but managing the deployment and configuration of applications on Kubernetes can be complex and time-consuming. Helm addresses this challenge by providing a standardized way to package, deploy, and manage applications on Kubernetes.\n",
       "\n",
       "With Helm, developers can define their application as a set of reusable and configurable components called \"charts.\" These charts encapsulate all the necessary Kubernetes resources, such as deployments, services, and config maps, along with their configurations. Helm allows developers to easily install, upgrade, and uninstall these charts, making it easier to manage the lifecycle of applications on Kubernetes.\n",
       "\n",
       "### What sub-category of technologies is this?\n",
       "\n",
       "Helm falls under the sub-category of \"application deployment and management tools\" within the broader field of container orchestration. It is specifically designed to work with Kubernetes, which is a popular container orchestration platform used for managing and scaling containerized applications. Helm simplifies the process of deploying and managing applications on Kubernetes by providing a higher-level abstraction and a standardized packaging format."
      ],
      "text/plain": [
       "<IPython.core.display.Markdown object>"
      ]
     },
     "metadata": {},
     "output_type": "display_data"
    }
   ],
   "source": [
    "onboarding = write_section(\"onboarding\", technology)\n",
    "display(Markdown(onboarding))"
   ]
  },
  {
   "cell_type": "markdown",
   "metadata": {},
   "source": [
    "## Developer life with/without the tool"
   ]
  },
  {
   "cell_type": "code",
   "execution_count": 14,
   "metadata": {},
   "outputs": [
    {
     "data": {
      "text/markdown": [
       "## Developer life with/without this tool\n",
       "\n",
       "### Without Helm\n",
       "\n",
       "#### Manual Deployment\n",
       "\n",
       "Without Helm, deploying applications to Kubernetes clusters requires manually creating and managing YAML files for each resource (e.g., deployments, services, ingress, etc.).\n",
       "Developers need to write and maintain these files, which can be time-consuming and error-prone.\n",
       "\n",
       "#### Complex Configuration Management\n",
       "\n",
       "Managing configurations for different environments (e.g., development, staging, production) becomes challenging without a centralized tool.\n",
       "Developers need to manually update configuration values in YAML files, leading to potential mistakes and inconsistencies.\n",
       "\n",
       "#### Lack of Versioning and Rollbacks\n",
       "\n",
       "Without Helm, it is difficult to track and manage different versions of application deployments.\n",
       "Rolling back to a previous version requires manual intervention and can be error-prone.\n",
       "\n",
       "#### Example Scenario\n",
       "\n",
       "A developer needs to deploy a microservice application to a Kubernetes cluster.\n",
       "They spend a significant amount of time writing YAML files for each resource, ensuring they are correctly configured and linked together.\n",
       "When a configuration change is required, the developer needs to manually update multiple YAML files, increasing the chances of mistakes.\n",
       "\n",
       "### With Helm\n",
       "\n",
       "#### Simplified Deployment\n",
       "\n",
       "Helm provides a package manager for Kubernetes applications, allowing developers to define and deploy applications using Helm charts.\n",
       "Developers can package all the required resources (e.g., deployments, services, ingress) into a single chart, simplifying the deployment process.\n",
       "\n",
       "Example Helm chart structure:\n",
       "\n",
       "```\n",
       "my-app/\n",
       "  ├── Chart.yaml\n",
       "  ├── values.yaml\n",
       "  ├── templates/\n",
       "  │   ├── deployment.yaml\n",
       "  │   ├── service.yaml\n",
       "  │   ├── ingress.yaml\n",
       "  │   └── ...\n",
       "  └── ...\n",
       "```\n",
       "\n",
       "#### Configuration Templating\n",
       "\n",
       "Helm allows developers to use templating language (Go templates) to dynamically generate configuration files.\n",
       "This enables easy configuration management for different environments, as developers can define variables and values in a values.yaml file.\n",
       "\n",
       "Example values.yaml file:\n",
       "\n",
       "```yaml\n",
       "# values.yaml\n",
       "replicaCount: 3\n",
       "image:\n",
       "  repository: my-app\n",
       "  tag: 1.0.0\n",
       "service:\n",
       "  port: 8080\n",
       "```\n",
       "\n",
       "#### Versioning and Rollbacks\n",
       "\n",
       "Helm provides versioning and rollback capabilities, allowing developers to easily manage different versions of their application deployments.\n",
       "Developers can roll back to a previous version with a single command, ensuring a smooth and controlled deployment process.\n",
       "\n",
       "Example Helm commands:\n",
       "\n",
       "```bash\n",
       "# Install or upgrade a Helm chart\n",
       "helm install my-app ./my-app\n",
       "helm upgrade my-app ./my-app\n",
       "\n",
       "# Rollback to a previous version\n",
       "helm rollback my-app 1\n",
       "```\n",
       "\n",
       "#### Example Workflow\n",
       "\n",
       "A developer creates a Helm chart for their application, defining the required resources and configurations.\n",
       "They can then deploy the application to a Kubernetes cluster using a single Helm command (`helm install my-app ./my-app`).\n",
       "When a configuration change is needed, the developer updates the values.yaml file and upgrades the Helm chart (`helm upgrade my-app ./my-app`)."
      ],
      "text/plain": [
       "<IPython.core.display.Markdown object>"
      ]
     },
     "metadata": {},
     "output_type": "display_data"
    }
   ],
   "source": [
    "with_and_without = write_section(\"with-and-without\", technology)\n",
    "display(Markdown(with_and_without))"
   ]
  },
  {
   "cell_type": "markdown",
   "metadata": {},
   "source": [
    "## Core Concepts"
   ]
  },
  {
   "cell_type": "code",
   "execution_count": 15,
   "metadata": {},
   "outputs": [
    {
     "data": {
      "text/markdown": [
       "## Core Concepts\n",
       "\n",
       "### Helm Charts\n",
       "Helm charts are packages of pre-configured Kubernetes resources that can be easily deployed and managed. They provide a templating mechanism to define and customize the resources needed for an application or service. Helm charts are written in YAML and can include templates, values, and dependencies.\n",
       "\n",
       "### Releases\n",
       "A release in Helm represents a specific deployment of a Helm chart. It is an instance of a chart that has been installed into a Kubernetes cluster. Each release has a unique name and can be managed independently. Helm allows you to install, upgrade, rollback, and delete releases, providing a convenient way to manage the lifecycle of your applications.\n",
       "\n",
       "### Chart Repositories\n",
       "Chart repositories are locations where Helm charts are stored and can be accessed. They can be public or private and are typically hosted on a web server or a version control system. Helm provides commands to add, update, and search chart repositories, making it easy to discover and share charts with the community.\n",
       "\n",
       "### Values\n",
       "Values are parameters that can be customized when installing or upgrading a Helm chart. They allow you to configure the behavior and settings of the deployed resources. Values can be defined in a separate values.yaml file or passed directly through the command line. They provide a flexible way to customize the deployment without modifying the chart itself.\n",
       "\n",
       "### Templates\n",
       "Templates in Helm are used to generate Kubernetes resource manifests based on the defined chart and the provided values. They allow you to dynamically generate YAML files by using Go templates. Templates can include conditionals, loops, and variables, enabling you to create reusable and configurable configurations for your applications."
      ],
      "text/plain": [
       "<IPython.core.display.Markdown object>"
      ]
     },
     "metadata": {},
     "output_type": "display_data"
    }
   ],
   "source": [
    "core_concepts = write_section(\"core-concepts\", technology)\n",
    "display(Markdown(core_concepts))"
   ]
  },
  {
   "cell_type": "markdown",
   "metadata": {},
   "source": [
    "## Core APIs"
   ]
  },
  {
   "cell_type": "code",
   "execution_count": 16,
   "metadata": {},
   "outputs": [
    {
     "data": {
      "text/markdown": [
       "## Core APIs\n",
       "\n",
       "### `helm install`\n",
       "\n",
       "- Purpose: Installs a chart into a Kubernetes cluster.\n",
       "- Usage Example:\n",
       "\n",
       "```bash\n",
       "helm install my-chart ./my-chart\n",
       "```\n",
       "\n",
       "### `helm upgrade`\n",
       "\n",
       "- Purpose: Upgrades a release to a new version of a chart.\n",
       "- Usage Example:\n",
       "\n",
       "```bash\n",
       "helm upgrade my-release ./my-chart\n",
       "```\n",
       "\n",
       "### `helm uninstall`\n",
       "\n",
       "- Purpose: Uninstalls a release from a Kubernetes cluster.\n",
       "- Usage Example:\n",
       "\n",
       "```bash\n",
       "helm uninstall my-release\n",
       "```\n",
       "\n",
       "### `helm list`\n",
       "\n",
       "- Purpose: Lists all releases in a Kubernetes cluster.\n",
       "- Usage Example:\n",
       "\n",
       "```bash\n",
       "helm list\n",
       "```\n",
       "\n",
       "### `helm repo add` / `helm repo update`\n",
       "\n",
       "- Purpose: Adds or updates a Helm repository.\n",
       "- Usage Examples:\n",
       "\n",
       "```bash\n",
       "# Add a repository\n",
       "helm repo add stable https://charts.helm.sh/stable\n",
       "\n",
       "# Update repositories\n",
       "helm repo update\n",
       "```\n",
       "\n",
       "Mock Output:\n",
       "\n",
       "```bash\n",
       "# Add a repository\n",
       "\"stable\" has been added to your repositories\n",
       "\n",
       "# Update repositories\n",
       "Hang tight while we grab the latest from your chart repositories...\n",
       "...Successfully got an update from the \"stable\" chart repository\n",
       "...Successfully got an update from the \"local\" chart repository\n",
       "Update Complete.\n",
       "```"
      ],
      "text/plain": [
       "<IPython.core.display.Markdown object>"
      ]
     },
     "metadata": {},
     "output_type": "display_data"
    }
   ],
   "source": [
    "core_apis = write_section(\"core-apis\", technology)\n",
    "display(Markdown(core_apis))"
   ]
  },
  {
   "cell_type": "markdown",
   "metadata": {},
   "source": [
    "## Small Running Example"
   ]
  },
  {
   "cell_type": "code",
   "execution_count": 22,
   "metadata": {},
   "outputs": [
    {
     "data": {
      "text/markdown": [
       "## Small Running Example\n",
       "\n",
       "This section provides a practical example of using Helm, starting from installation to deploying a simple application.\n",
       "\n",
       "### Installation\n",
       "\n",
       "1. Install Helm:\n",
       "\n",
       "- For macOS:\n",
       "  - Use Homebrew with the command `brew install helm`.\n",
       "- For Windows:\n",
       "  - Download the Helm installer from the Helm [website](https://helm.sh/docs/intro/install/).\n",
       "- For Linux:\n",
       "  - Use the package manager to install Helm. For example, on Ubuntu:\n",
       "  ```bash\n",
       "  curl https://baltocdn.com/helm/signing.asc | sudo apt-key add -\n",
       "  sudo apt-get install apt-transport-https --yes\n",
       "  echo \"deb https://baltocdn.com/helm/stable/debian/ all main\" | sudo tee /etc/apt/sources.list.d/helm-stable-debian.list\n",
       "  sudo apt-get update\n",
       "  sudo apt-get install helm\n",
       "  ```\n",
       "\n",
       "2. Verify Installation:\n",
       "\n",
       "- Open a terminal or command prompt.\n",
       "- Run `helm version` to ensure Helm is installed correctly.\n",
       "\n",
       "### Code\n",
       "\n",
       "Now that Helm is installed, let's deploy a simple application using Helm charts.\n",
       "\n",
       "1. Create a Helm Chart:\n",
       "\n",
       "    Create a new directory for your Helm chart and navigate into it:\n",
       "    ```bash\n",
       "    mkdir my-chart\n",
       "    cd my-chart\n",
       "    ```\n",
       "\n",
       "    Create a new file named `Chart.yaml` with the following content:\n",
       "    ```yaml\n",
       "    apiVersion: v2\n",
       "    name: my-chart\n",
       "    version: 0.1.0\n",
       "    ```\n",
       "\n",
       "    Create a new file named `values.yaml` with the following content:\n",
       "    ```yaml\n",
       "    replicaCount: 1\n",
       "    image:\n",
       "      repository: nginx\n",
       "      tag: stable\n",
       "      pullPolicy: IfNotPresent\n",
       "    ```\n",
       "\n",
       "    Create a new file named `templates/deployment.yaml` with the following content:\n",
       "    ```yaml\n",
       "    apiVersion: apps/v1\n",
       "    kind: Deployment\n",
       "    metadata:\n",
       "      name: {{ .Release.Name }}-deployment\n",
       "      labels:\n",
       "        app: my-chart\n",
       "    spec:\n",
       "      replicas: {{ .Values.replicaCount }}\n",
       "      selector:\n",
       "        matchLabels:\n",
       "          app: my-chart\n",
       "      template:\n",
       "        metadata:\n",
       "          labels:\n",
       "            app: my-chart\n",
       "        spec:\n",
       "          containers:\n",
       "            - name: my-chart-container\n",
       "              image: {{ .Values.image.repository }}:{{ .Values.image.tag }}\n",
       "              imagePullPolicy: {{ .Values.image.pullPolicy }}\n",
       "              ports:\n",
       "                - containerPort: 80\n",
       "    ```\n",
       "\n",
       "2. Install the Helm Chart:\n",
       "\n",
       "    In your terminal, in the directory containing your Helm chart, run:\n",
       "    ```bash\n",
       "    helm install my-chart .\n",
       "    ```\n",
       "\n",
       "    This command installs the Helm chart named `my-chart` using the current directory as the chart source.\n",
       "\n",
       "3. Verify Deployment:\n",
       "\n",
       "    Run the following command to check the status of the deployment:\n",
       "    ```bash\n",
       "    kubectl get deployments\n",
       "    ```\n",
       "\n",
       "    You should see the deployment named `my-chart-deployment` with the desired number of replicas.\n",
       "\n",
       "4. Access the Application:\n",
       "\n",
       "    Run the following command to get the service URL:\n",
       "    ```bash\n",
       "    kubectl get service\n",
       "    ```\n",
       "\n",
       "    Look for the service with the name `my-chart-deployment` and note the external IP or port.\n",
       "\n",
       "    Open a web browser and go to the service URL. You should see the default Nginx welcome page.\n",
       "\n",
       "Congratulations! You have successfully deployed a simple application using Helm."
      ],
      "text/plain": [
       "<IPython.core.display.Markdown object>"
      ]
     },
     "metadata": {},
     "output_type": "display_data"
    }
   ],
   "source": [
    "small_runnable_example = write_section(\"small-runnable-example\", technology)\n",
    "display(Markdown(small_runnable_example))"
   ]
  },
  {
   "cell_type": "markdown",
   "metadata": {},
   "source": [
    "## Real Life Examples"
   ]
  },
  {
   "cell_type": "code",
   "execution_count": 18,
   "metadata": {},
   "outputs": [],
   "source": [
    "# Function to perform a Tavily search\n",
    "\n",
    "def write_real_life_examples(technology_name: str) -> str:\n",
    "    # Initialize clients with API keys\n",
    "    openai_client = OpenAI(api_key=os.environ[\"OPENAI_API_KEY\"])\n",
    "    tavily_client = TavilyClient(api_key=os.environ[\"TAVILY_API_KEY\"])\n",
    "\n",
    "    assistant_prompt_instruction=load_prompt(\"real-life-examples\")\n",
    "    assistant = get_assistant(assistant_prompt_instruction, openai_client)\n",
    "\n",
    "    # Create a thread\n",
    "    thread = openai_client.beta.threads.create()\n",
    "    print(f\"Thread ID: {thread}\")\n",
    "\n",
    "    message = openai_client.beta.threads.messages.create(\n",
    "        thread_id=thread.id,\n",
    "        role=\"user\",\n",
    "        content=technology_name,\n",
    "    )\n",
    "\n",
    "    # Create a run\n",
    "    run = openai_client.beta.threads.runs.create(\n",
    "        thread_id=thread.id,\n",
    "        assistant_id=assistant.id,\n",
    "    )\n",
    "    print(f\"Run ID: {run.id}\")\n",
    "\n",
    "    # Wait for run to complete\n",
    "    run = wait_for_run_completion(thread.id, run.id, openai_client)\n",
    "\n",
    "    if run.status == 'failed':\n",
    "        print(run.error)\n",
    "        exit\n",
    "    elif run.status == 'requires_action':\n",
    "        run = submit_tool_outputs(thread.id, run.id, run.required_action.submit_tool_outputs.tool_calls, openai_client, tavily_client)\n",
    "        run = wait_for_run_completion(thread.id, run.id, openai_client)\n",
    "\n",
    "    # Print messages from the thread\n",
    "    real_life_examples = get_assistant_response(thread.id, openai_client)\n",
    "\n",
    "    return real_life_examples\n",
    "    \n",
    "\n",
    "\n",
    "def tavily_search(query, tavily_client: TavilyClient):\n",
    "    search_result = tavily_client.get_search_context(query, search_depth=\"advanced\", max_tokens=8000, include_domains=[\"github.com\"])\n",
    "    return search_result\n",
    "\n",
    "# Function to wait for a run to complete\n",
    "def wait_for_run_completion(thread_id, run_id, openai_client: OpenAI):\n",
    "    while True:\n",
    "        time.sleep(1)\n",
    "        run = openai_client.beta.threads.runs.retrieve(thread_id=thread_id, run_id=run_id)\n",
    "        print(f\"Current run status: {run.status}\")\n",
    "        if run.status in ['completed', 'failed', 'requires_action']:\n",
    "            return run\n",
    "\n",
    "# Function to handle tool output submission\n",
    "def submit_tool_outputs(thread_id, run_id, tools_to_call, openai_client: OpenAI, tavily_client: TavilyClient):\n",
    "    tool_output_array = []\n",
    "    for tool in tools_to_call:\n",
    "        output = None\n",
    "        tool_call_id = tool.id\n",
    "        function_name = tool.function.name\n",
    "        function_args = tool.function.arguments\n",
    "\n",
    "        if function_name == \"tavily_search\":\n",
    "            output = tavily_search(query=json.loads(function_args)[\"query\"], tavily_client=tavily_client)\n",
    "\n",
    "        if output:\n",
    "            tool_output_array.append({\"tool_call_id\": tool_call_id, \"output\": output})\n",
    "\n",
    "    return openai_client.beta.threads.runs.submit_tool_outputs(\n",
    "        thread_id=thread_id,\n",
    "        run_id=run_id,\n",
    "        tool_outputs=tool_output_array\n",
    "    )\n",
    "\n",
    "def get_assistant_response(thread_id: str, openai_client: OpenAI):\n",
    "    messages = openai_client.beta.threads.messages.list(thread_id=thread_id)\n",
    "    return messages.data[0].content[0].text.value\n",
    "\n",
    "\n",
    "def get_assistant(prompt: str, openai_client: OpenAI) -> str:\n",
    "    \"\"\"\n",
    "    Returns OpenAI assistant that has instructions of `prompt`\n",
    "    \"\"\"\n",
    "    curr_assistant_id = os.environ[\"REAL_LIFE_EXAMPLES_OPENAI_ASSISTANT_ID\"]\n",
    "\n",
    "    curr_assistant = openai_client.beta.assistants.retrieve(curr_assistant_id)\n",
    "\n",
    "    if curr_assistant.instructions == prompt:\n",
    "        return curr_assistant\n",
    "    \n",
    "    else:\n",
    "        print(\"Current assistant stored in ENV does not use the provided prompt. Making a new assistant with new prompt.\")\n",
    "    \n",
    "        # Create the assistant\n",
    "        assistant = openai_client.beta.assistants.create(\n",
    "            instructions=prompt,\n",
    "            model=\"gpt-4-1106-preview\",\n",
    "            tools=[{\n",
    "                \"type\": \"function\",\n",
    "                \"function\": {\n",
    "                    \"name\": \"tavily_search\",\n",
    "                    \"description\": \"Get information on recent events from the web.\",\n",
    "                    \"parameters\": {\n",
    "                        \"type\": \"object\",\n",
    "                        \"properties\": {\n",
    "                            \"query\": {\"type\": \"string\", \"description\": \"The search query to use. For example: 'Latest news on Nvidia stock performance'\"},\n",
    "                        },\n",
    "                        \"required\": [\"query\"]\n",
    "                    }\n",
    "                }\n",
    "            }]\n",
    "        )\n",
    "        os.environ[\"REAL_LIFE_EXAMPLES_OPENAI_ASSISTANT_ID\"] = assistant.id\n",
    "        print(\"Stored this assistant id into ENV for this session. Please change permanently in your .env file if you want to use this assistant again.\")\n",
    "        return assistant"
   ]
  },
  {
   "cell_type": "code",
   "execution_count": 19,
   "metadata": {},
   "outputs": [
    {
     "name": "stdout",
     "output_type": "stream",
     "text": [
      "Thread ID: Thread(id='thread_v4BPi2zjevfT3jGdbCKkH3Hf', created_at=1703951169, metadata={}, object='thread')\n",
      "Run ID: run_X3ajydtMoCIIQrBGVdJ0FjpN\n",
      "Current run status: in_progress\n",
      "Current run status: in_progress\n",
      "Current run status: in_progress\n",
      "Current run status: requires_action\n",
      "Current run status: in_progress\n",
      "Current run status: in_progress\n",
      "Current run status: in_progress\n",
      "Current run status: in_progress\n",
      "Current run status: in_progress\n",
      "Current run status: completed\n"
     ]
    },
    {
     "data": {
      "text/markdown": [
       "## Real Life Examples\n",
       "\n",
       "### Helm Chart Repository for Example Charts\n",
       "\n",
       "- Description: This Helm repository contains a variety of example Helm charts, demonstrating how to host and manage Helm chart repositories using GitHub Pages and GitHub Actions.\n",
       "- URL: https://github.com/helm/examples\n",
       "\n",
       "### Charts Repo Actions Demo\n",
       "\n",
       "- Description: An example project demonstrating the testing and hosting of a Helm chart repository with GitHub Pages and Actions. It includes examples of how to integrate various GitHub Actions with Helm.\n",
       "- URL: https://github.com/helm/charts-repo-actions-demo"
      ],
      "text/plain": [
       "<IPython.core.display.Markdown object>"
      ]
     },
     "metadata": {},
     "output_type": "display_data"
    }
   ],
   "source": [
    "real_life_examples = write_real_life_examples(technology)\n",
    "display(Markdown(real_life_examples))"
   ]
  }
 ],
 "metadata": {
  "kernelspec": {
   "display_name": "flash-env",
   "language": "python",
   "name": "python3"
  },
  "language_info": {
   "codemirror_mode": {
    "name": "ipython",
    "version": 3
   },
   "file_extension": ".py",
   "mimetype": "text/x-python",
   "name": "python",
   "nbconvert_exporter": "python",
   "pygments_lexer": "ipython3",
   "version": "3.9.18"
  }
 },
 "nbformat": 4,
 "nbformat_minor": 2
}
