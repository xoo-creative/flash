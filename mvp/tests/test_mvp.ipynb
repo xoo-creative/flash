import unittest
from unittest.mock import patch, MagicMock
import nbformat
from runipy.notebook_runner import NotebookRunner

class TestMvp(unittest.TestCase):

    @patch('builtins.open', new_callable=MagicMock)
    def test_load_text(self, mock_open):
        mock_open.return_value.__enter__.return_value.read.return_value = 'test content'
        from mvp.mvp import load_text
        result = load_text('dummy.txt')
        self.assertEqual(result, 'test content')

    @patch('mvp.mvp.load_text')
    def test_load_prompt(self, mock_load_text):
        mock_load_text.return_value = 'test prompt'
        from mvp.mvp import load_prompt
        result = load_prompt('dummy')
        self.assertEqual(result, 'test prompt')

    @patch('mvp.mvp.chat')
    def test_write_section(self, mock_chat):
        mock_chat.return_value = MagicMock(content='test content')
        from mvp.mvp import write_section
        result = write_section('dummy', 'dummy')
        self.assertEqual(result, 'test content')

    @patch('mvp.mvp.TavilyClient')
    def test_tavily_search(self, mock_tavily_client):
        mock_tavily_client.get_search_context.return_value = 'test search result'
        from mvp.mvp import tavily_search
        result = tavily_search('dummy', mock_tavily_client)
        self.assertEqual(result, 'test search result')

    @patch('mvp.mvp.OpenAI')
    def test_wait_for_run_completion(self, mock_openai_client):
        mock_openai_client.beta.threads.runs.retrieve.return_value = MagicMock(status='completed')
        from mvp.mvp import wait_for_run_completion
        result = wait_for_run_completion('dummy', 'dummy', mock_openai_client)
        self.assertEqual(result.status, 'completed')

    @patch('mvp.mvp.OpenAI')
    @patch('mvp.mvp.tavily_search')
    def test_submit_tool_outputs(self, mock_tavily_search, mock_openai_client):
        mock_tavily_search.return_value = 'test output'
        mock_openai_client.beta.threads.runs.submit_tool_outputs.return_value = MagicMock(id='test run')
        from mvp.mvp import submit_tool_outputs
        result = submit_tool_outputs('dummy', 'dummy', [{'id': 'dummy', 'function': {'name': 'tavily_search', 'arguments': '{"query": "dummy"}'}}], mock_openai_client, MagicMock())
        self.assertEqual(result.id, 'test run')

    @patch('mvp.mvp.OpenAI')
    def test_get_assistant_response(self, mock_openai_client):
        mock_openai_client.beta.threads.messages.list.return_value = MagicMock(data=[MagicMock(content=[MagicMock(text=MagicMock(value='test response'))])])
        from mvp.mvp import get_assistant_response
        result = get_assistant_response('dummy', mock_openai_client)
        self.assertEqual(result, 'test response')

    @patch('mvp.mvp.OpenAI')
    def test_get_assistant(self, mock_openai_client):
        mock_openai_client.beta.assistants.retrieve.return_value = MagicMock(instructions='test prompt')
        mock_openai_client.beta.assistants.create.return_value = MagicMock(id='test assistant')
        from mvp.mvp import get_assistant
        result = get_assistant('test prompt', mock_openai_client)
        self.assertEqual(result.id, 'test assistant')

if __name__ == '__main__':
    unittest.main()
